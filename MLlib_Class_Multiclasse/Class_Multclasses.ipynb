{
 "cells": [
  {
   "cell_type": "code",
   "execution_count": 1,
   "id": "985da5ba",
   "metadata": {},
   "outputs": [
    {
     "name": "stdout",
     "output_type": "stream",
     "text": [
      "A versão usada foi 3.9.12\n"
     ]
    }
   ],
   "source": [
    "from platform import python_version\n",
    "print('A versão usada foi', python_version())"
   ]
  },
  {
   "cell_type": "code",
   "execution_count": 1,
   "id": "f7863a5d",
   "metadata": {},
   "outputs": [],
   "source": [
    "# Importando e inicializando o findspark\n",
    "import findspark\n",
    "findspark.init()"
   ]
  },
  {
   "cell_type": "code",
   "execution_count": 2,
   "id": "c5317c04",
   "metadata": {},
   "outputs": [],
   "source": [
    " #Imports \n",
    "import pyspark\n",
    "from pyspark import SparkContext\n",
    "from pyspark.sql import SparkSession\n",
    "from pyspark.sql import Row\n",
    "from pyspark.ml.feature import StringIndexer\n",
    "from pyspark.ml.linalg import Vectors\n",
    "from pyspark.ml.classification import DecisionTreeClassifier\n",
    "from pyspark.ml.evaluation import MulticlassClassificationEvaluator"
   ]
  },
  {
   "cell_type": "markdown",
   "id": "d9f7ce5c",
   "metadata": {},
   "source": [
    "## Carregando os dados"
   ]
  },
  {
   "cell_type": "code",
   "execution_count": 3,
   "id": "0e72aa82",
   "metadata": {},
   "outputs": [
    {
     "name": "stdout",
     "output_type": "stream",
     "text": [
      "23/04/09 17:27:27 WARN Utils: Your hostname, mor-Inspiron-3501 resolves to a loopback address: 127.0.1.1; using 192.168.15.175 instead (on interface wlp0s20f3)\n",
      "23/04/09 17:27:27 WARN Utils: Set SPARK_LOCAL_IP if you need to bind to another address\n"
     ]
    },
    {
     "name": "stderr",
     "output_type": "stream",
     "text": [
      "Setting default log level to \"WARN\".\n",
      "To adjust logging level use sc.setLogLevel(newLevel). For SparkR, use setLogLevel(newLevel).\n"
     ]
    },
    {
     "name": "stdout",
     "output_type": "stream",
     "text": [
      "23/04/09 17:27:27 WARN NativeCodeLoader: Unable to load native-hadoop library for your platform... using builtin-java classes where applicable\n",
      "23/04/09 17:27:28 WARN Utils: Service 'SparkUI' could not bind on port 4040. Attempting port 4041.\n"
     ]
    }
   ],
   "source": [
    "# Criando o spark context\n",
    "\n",
    "sc = SparkContext(appName='Note2')"
   ]
  },
  {
   "cell_type": "code",
   "execution_count": 4,
   "id": "260bb379",
   "metadata": {},
   "outputs": [],
   "source": [
    "sc.setLogLevel('ERROR')"
   ]
  },
  {
   "cell_type": "code",
   "execution_count": 5,
   "id": "1562289d",
   "metadata": {},
   "outputs": [],
   "source": [
    "# Spark Session - usada quando se trabalha com Dataframes no Spark\n",
    "spark_sesseion = SparkSession.builder.master('local').getOrCreate()"
   ]
  },
  {
   "cell_type": "code",
   "execution_count": 6,
   "id": "4aca8899",
   "metadata": {},
   "outputs": [],
   "source": [
    "# Carregando os dados e gerando um RDD\n",
    "dados_times_futebol = sc.textFile('dataset2.csv')"
   ]
  },
  {
   "cell_type": "code",
   "execution_count": 7,
   "id": "7d02dea4",
   "metadata": {},
   "outputs": [
    {
     "data": {
      "text/plain": [
       "dataset2.csv MapPartitionsRDD[1] at textFile at NativeMethodAccessorImpl.java:0"
      ]
     },
     "execution_count": 7,
     "metadata": {},
     "output_type": "execute_result"
    }
   ],
   "source": [
    "# Colocando o RDD em cache. Esse processo otimiza a performance.\n",
    "dados_times_futebol.cache()"
   ]
  },
  {
   "cell_type": "code",
   "execution_count": 9,
   "id": "676e9033",
   "metadata": {},
   "outputs": [
    {
     "name": "stderr",
     "output_type": "stream",
     "text": [
      "                                                                                \r"
     ]
    },
    {
     "data": {
      "text/plain": [
       "151"
      ]
     },
     "execution_count": 9,
     "metadata": {},
     "output_type": "execute_result"
    }
   ],
   "source": [
    "dados_times_futebol.count()"
   ]
  },
  {
   "cell_type": "code",
   "execution_count": 8,
   "id": "7f8f7bca",
   "metadata": {},
   "outputs": [
    {
     "name": "stderr",
     "output_type": "stream",
     "text": [
      "                                                                                \r"
     ]
    },
    {
     "data": {
      "text/plain": [
       "['media_faltas_sofridas,media_faltas_recebidas,media_cartoes_recebidos,media_chutes_a_gol,resultado',\n",
       " '4.8,3,1.4,0.3,vitoria',\n",
       " '5.1,3.8,1.6,0.2,vitoria',\n",
       " '4.6,3.2,1.4,0.2,vitoria',\n",
       " '5.3,3.7,1.5,0.2,vitoria']"
      ]
     },
     "execution_count": 8,
     "metadata": {},
     "output_type": "execute_result"
    }
   ],
   "source": [
    "dados_times_futebol.take(5)"
   ]
  },
  {
   "cell_type": "code",
   "execution_count": 9,
   "id": "8b6c5cff",
   "metadata": {},
   "outputs": [
    {
     "data": {
      "text/plain": [
       "150"
      ]
     },
     "execution_count": 9,
     "metadata": {},
     "output_type": "execute_result"
    }
   ],
   "source": [
    "# Removendo a primeira linha do arquivo (cabeçalho)\n",
    "dados_times_futebol2 = dados_times_futebol.filter(lambda x: 'media_faltas_sofridas' not in x)\n",
    "dados_times_futebol2.count()"
   ]
  },
  {
   "cell_type": "markdown",
   "id": "60eb8d5f",
   "metadata": {},
   "source": [
    "## Limpeza dos Dados"
   ]
  },
  {
   "cell_type": "code",
   "execution_count": 10,
   "id": "b52bfb5c",
   "metadata": {},
   "outputs": [],
   "source": [
    "# Seprando as colunas\n",
    "dados_times_futebol3 = dados_times_futebol2.map(lambda x: x.split(','))"
   ]
  },
  {
   "cell_type": "code",
   "execution_count": 11,
   "id": "51966bfd",
   "metadata": {},
   "outputs": [
    {
     "data": {
      "text/plain": [
       "[['4.8', '3', '1.4', '0.3', 'vitoria'],\n",
       " ['5.1', '3.8', '1.6', '0.2', 'vitoria'],\n",
       " ['4.6', '3.2', '1.4', '0.2', 'vitoria'],\n",
       " ['5.3', '3.7', '1.5', '0.2', 'vitoria'],\n",
       " ['5.1', '3.5', '1.4', '0.2', 'vitoria']]"
      ]
     },
     "execution_count": 11,
     "metadata": {},
     "output_type": "execute_result"
    }
   ],
   "source": [
    "dados_times_futebol3.take(5)"
   ]
  },
  {
   "cell_type": "code",
   "execution_count": 12,
   "id": "50286dde",
   "metadata": {},
   "outputs": [],
   "source": [
    "# Mapeando as colunas\n",
    "# Isso é necessário porque o Spark não carregou o Schemma. Para o rdd não importa.\n",
    "# Mas para o spark dataframe isso é necessário!\n",
    "dados_times_futebol4 = dados_times_futebol3.map(lambda p: Row(media_faltas_sofridas = float(p[0]), \n",
    "                                                              media_faltas_recebidas = float(p[1]), \n",
    "                                                              media_cartoes_recebidos = float(p[2]), \n",
    "                                                              media_chutes_a_gol = float(p[3]), \n",
    "                                                              resultado = p[4]))"
   ]
  },
  {
   "cell_type": "code",
   "execution_count": 13,
   "id": "71bb270f",
   "metadata": {},
   "outputs": [
    {
     "data": {
      "text/plain": [
       "DataFrame[media_faltas_sofridas: double, media_faltas_recebidas: double, media_cartoes_recebidos: double, media_chutes_a_gol: double, resultado: string]"
      ]
     },
     "execution_count": 13,
     "metadata": {},
     "output_type": "execute_result"
    }
   ],
   "source": [
    "# Converte o RDD para DataFrame do Spark\n",
    "df_time = spark_sesseion.createDataFrame(dados_times_futebol4)\n",
    "df_time.cache()"
   ]
  },
  {
   "cell_type": "code",
   "execution_count": 14,
   "id": "ce0d3fa8",
   "metadata": {},
   "outputs": [
    {
     "data": {
      "text/plain": [
       "[Row(media_faltas_sofridas=4.8, media_faltas_recebidas=3.0, media_cartoes_recebidos=1.4, media_chutes_a_gol=0.3, resultado='vitoria'),\n",
       " Row(media_faltas_sofridas=5.1, media_faltas_recebidas=3.8, media_cartoes_recebidos=1.6, media_chutes_a_gol=0.2, resultado='vitoria'),\n",
       " Row(media_faltas_sofridas=4.6, media_faltas_recebidas=3.2, media_cartoes_recebidos=1.4, media_chutes_a_gol=0.2, resultado='vitoria'),\n",
       " Row(media_faltas_sofridas=5.3, media_faltas_recebidas=3.7, media_cartoes_recebidos=1.5, media_chutes_a_gol=0.2, resultado='vitoria'),\n",
       " Row(media_faltas_sofridas=5.1, media_faltas_recebidas=3.5, media_cartoes_recebidos=1.4, media_chutes_a_gol=0.2, resultado='vitoria')]"
      ]
     },
     "execution_count": 14,
     "metadata": {},
     "output_type": "execute_result"
    }
   ],
   "source": [
    "df_time.take(5)"
   ]
  },
  {
   "cell_type": "code",
   "execution_count": 15,
   "id": "12291620",
   "metadata": {},
   "outputs": [],
   "source": [
    "# Criando um índice numérico para a coluna de label target\n",
    "string_indexer = StringIndexer(inputCol='resultado', outputCol='idx_resultado')"
   ]
  },
  {
   "cell_type": "code",
   "execution_count": 16,
   "id": "86616089",
   "metadata": {},
   "outputs": [],
   "source": [
    "# Treinando o string indexer\n",
    "s_i_model = string_indexer.fit(df_time)"
   ]
  },
  {
   "cell_type": "code",
   "execution_count": 18,
   "id": "f8ba2384",
   "metadata": {},
   "outputs": [],
   "source": [
    "# Aplicando o string indexer já treinado\n",
    "df_time_final = s_i_model.transform(df_time)"
   ]
  },
  {
   "cell_type": "code",
   "execution_count": 20,
   "id": "8bcb0ea9",
   "metadata": {},
   "outputs": [
    {
     "data": {
      "text/plain": [
       "[Row(resultado='derrota', idx_resultado=0.0),\n",
       " Row(resultado='vitoria', idx_resultado=2.0),\n",
       " Row(resultado='empate', idx_resultado=1.0)]"
      ]
     },
     "execution_count": 20,
     "metadata": {},
     "output_type": "execute_result"
    }
   ],
   "source": [
    "df_time_final.select('resultado', 'idx_resultado').distinct().collect()"
   ]
  },
  {
   "cell_type": "markdown",
   "id": "615b2b18",
   "metadata": {},
   "source": [
    "## Análise Exploratória de Dados"
   ]
  },
  {
   "cell_type": "code",
   "execution_count": 21,
   "id": "616fcb8a",
   "metadata": {},
   "outputs": [
    {
     "name": "stdout",
     "output_type": "stream",
     "text": [
      "+-------+---------------------+----------------------+-----------------------+------------------+---------+------------------+\n",
      "|summary|media_faltas_sofridas|media_faltas_recebidas|media_cartoes_recebidos|media_chutes_a_gol|resultado|     idx_resultado|\n",
      "+-------+---------------------+----------------------+-----------------------+------------------+---------+------------------+\n",
      "|  count|                  150|                   150|                    150|               150|      150|               150|\n",
      "|   mean|    5.843333333333332|    3.0573333333333337|      3.758000000000001|1.1993333333333331|     null|               1.0|\n",
      "| stddev|   0.8280661279778625|   0.43586628493669793|     1.7652982332594667|0.7622376689603465|     null|0.8192319205190404|\n",
      "|    min|                  4.3|                   2.0|                    1.0|               0.1|  derrota|               0.0|\n",
      "|    max|                  7.9|                   4.4|                    6.9|               2.5|  vitoria|               2.0|\n",
      "+-------+---------------------+----------------------+-----------------------+------------------+---------+------------------+\n",
      "\n"
     ]
    }
   ],
   "source": [
    "# Estatística descritiva:\n",
    "df_time_final.describe().show()"
   ]
  },
  {
   "cell_type": "code",
   "execution_count": 22,
   "id": "54d4de8b",
   "metadata": {},
   "outputs": [
    {
     "name": "stdout",
     "output_type": "stream",
     "text": [
      "Correlação da variável idx_resultado com media_faltas_sofridas -0.460039156500237\n",
      "Correlação da variável idx_resultado com media_faltas_recebidas 0.6183715308237437\n",
      "Correlação da variável idx_resultado com media_cartoes_recebidos -0.6492418307641741\n",
      "Correlação da variável idx_resultado com media_chutes_a_gol -0.5803770334306263\n",
      "Correlação da variável idx_resultado com idx_resultado 1.0\n"
     ]
    }
   ],
   "source": [
    "# Correlação entre as variáveis\n",
    "\n",
    "for i in df_time_final.columns:\n",
    "    if not(isinstance(df_time_final.select(i).take(1)[0][0], str)):\n",
    "        print(\"Correlação da variável idx_resultado com\", i, df_time_final.corr('idx_resultado', i))"
   ]
  },
  {
   "cell_type": "markdown",
   "id": "a888a4b5",
   "metadata": {},
   "source": [
    "## Pré-Processamento dos Dados"
   ]
  },
  {
   "cell_type": "code",
   "execution_count": 31,
   "id": "df6542f8",
   "metadata": {},
   "outputs": [],
   "source": [
    "# Criando um LabeledPoint (target, Vector[features])\n",
    "# Remove colunas não relevantes para o modelo ou com baixa correlação\n",
    "\n",
    "def transformaVar(row):\n",
    "    obj = (row['resultado'], row['idx_resultado'],Vectors.dense(row[\"media_faltas_sofridas\"], \n",
    "                                                                  row[\"media_faltas_recebidas\"],\n",
    "                                                                  row[\"media_cartoes_recebidos\"], \n",
    "                                                                  row[\"media_chutes_a_gol\"]))\n",
    "    return obj"
   ]
  },
  {
   "cell_type": "code",
   "execution_count": 32,
   "id": "ffd4ee60",
   "metadata": {},
   "outputs": [],
   "source": [
    "# Aplica a função\n",
    "df_time_final_RDD = df_time_final.rdd.map(transformaVar)"
   ]
  },
  {
   "cell_type": "code",
   "execution_count": 33,
   "id": "c5359c05",
   "metadata": {},
   "outputs": [
    {
     "data": {
      "text/plain": [
       "[('vitoria', 2.0, DenseVector([4.8, 3.0, 1.4, 0.3])),\n",
       " ('vitoria', 2.0, DenseVector([5.1, 3.8, 1.6, 0.2])),\n",
       " ('vitoria', 2.0, DenseVector([4.6, 3.2, 1.4, 0.2])),\n",
       " ('vitoria', 2.0, DenseVector([5.3, 3.7, 1.5, 0.2])),\n",
       " ('vitoria', 2.0, DenseVector([5.1, 3.5, 1.4, 0.2]))]"
      ]
     },
     "execution_count": 33,
     "metadata": {},
     "output_type": "execute_result"
    }
   ],
   "source": [
    "df_time_final_RDD.take(5)"
   ]
  },
  {
   "cell_type": "code",
   "execution_count": 34,
   "id": "6781ce3e",
   "metadata": {},
   "outputs": [],
   "source": [
    "# Converte o RDD para DataFrame\n",
    "df_spark = spark_sesseion.createDataFrame(df_time_final_RDD,['resultado', 'label', 'features'])"
   ]
  },
  {
   "cell_type": "code",
   "execution_count": 35,
   "id": "641fe197",
   "metadata": {},
   "outputs": [
    {
     "data": {
      "text/plain": [
       "DataFrame[resultado: string, label: double, features: vector]"
      ]
     },
     "execution_count": 35,
     "metadata": {},
     "output_type": "execute_result"
    }
   ],
   "source": [
    "df_spark.cache()"
   ]
  },
  {
   "cell_type": "code",
   "execution_count": 36,
   "id": "826627c9",
   "metadata": {},
   "outputs": [
    {
     "name": "stdout",
     "output_type": "stream",
     "text": [
      "+---------+-----+-----------------+\n",
      "|resultado|label|         features|\n",
      "+---------+-----+-----------------+\n",
      "|  vitoria|  2.0|[4.8,3.0,1.4,0.3]|\n",
      "|  vitoria|  2.0|[5.1,3.8,1.6,0.2]|\n",
      "|  vitoria|  2.0|[4.6,3.2,1.4,0.2]|\n",
      "|  vitoria|  2.0|[5.3,3.7,1.5,0.2]|\n",
      "|  vitoria|  2.0|[5.1,3.5,1.4,0.2]|\n",
      "|  vitoria|  2.0|[4.9,3.0,1.4,0.2]|\n",
      "|  vitoria|  2.0|[4.7,3.2,1.3,0.2]|\n",
      "|  vitoria|  2.0|[4.6,3.1,1.5,0.2]|\n",
      "|  vitoria|  2.0|[5.0,3.6,1.4,0.2]|\n",
      "|  vitoria|  2.0|[5.4,3.9,1.7,0.4]|\n",
      "+---------+-----+-----------------+\n",
      "only showing top 10 rows\n",
      "\n"
     ]
    }
   ],
   "source": [
    "df_spark.select('resultado', 'label', 'features').show(10)"
   ]
  },
  {
   "cell_type": "code",
   "execution_count": 37,
   "id": "f1f0d908",
   "metadata": {},
   "outputs": [
    {
     "name": "stdout",
     "output_type": "stream",
     "text": [
      "109\n",
      "41\n"
     ]
    }
   ],
   "source": [
    "# Dados de Treino e de Teste\n",
    "(dados_treino, dados_teste) = df_spark.randomSplit([0.7,0.3])\n",
    "print(dados_treino.count())\n",
    "print(dados_teste.count())"
   ]
  },
  {
   "cell_type": "markdown",
   "id": "b4b28f0d",
   "metadata": {},
   "source": [
    "## Machine Learning"
   ]
  },
  {
   "cell_type": "code",
   "execution_count": 38,
   "id": "697669ae",
   "metadata": {},
   "outputs": [],
   "source": [
    "#Cria o objeto\n",
    "classificador = DecisionTreeClassifier(maxDepth= 2, labelCol='label', featuresCol='features')"
   ]
  },
  {
   "cell_type": "code",
   "execution_count": 39,
   "id": "8df2b8b9",
   "metadata": {},
   "outputs": [],
   "source": [
    "# Treina o objeto com dados para criar o modelo\n",
    "modelo = classificador.fit(dados_treino)"
   ]
  },
  {
   "cell_type": "code",
   "execution_count": 40,
   "id": "4049bf3c",
   "metadata": {},
   "outputs": [
    {
     "data": {
      "text/plain": [
       "5"
      ]
     },
     "execution_count": 40,
     "metadata": {},
     "output_type": "execute_result"
    }
   ],
   "source": [
    "# Hiperparâmetro definido por padrão\n",
    "modelo.numNodes"
   ]
  },
  {
   "cell_type": "code",
   "execution_count": 41,
   "id": "d142292f",
   "metadata": {},
   "outputs": [
    {
     "data": {
      "text/plain": [
       "2"
      ]
     },
     "execution_count": 41,
     "metadata": {},
     "output_type": "execute_result"
    }
   ],
   "source": [
    "# Hiperparâmetro definido por nós\n",
    "modelo.depth"
   ]
  },
  {
   "cell_type": "code",
   "execution_count": 42,
   "id": "49a2909b",
   "metadata": {},
   "outputs": [
    {
     "data": {
      "text/plain": [
       "DataFrame[resultado: string, label: double, features: vector, rawPrediction: vector, probability: vector, prediction: double]"
      ]
     },
     "execution_count": 42,
     "metadata": {},
     "output_type": "execute_result"
    }
   ],
   "source": [
    "# Previsões com dados de teste\n",
    "prev = modelo.transform(dados_teste)\n",
    "prev"
   ]
  },
  {
   "cell_type": "code",
   "execution_count": 43,
   "id": "c6cb42fd",
   "metadata": {},
   "outputs": [
    {
     "data": {
      "text/plain": [
       "[Row(resultado='derrota', label=0.0, prediction=0.0, probability=DenseVector([0.9167, 0.0833, 0.0])),\n",
       " Row(resultado='derrota', label=0.0, prediction=0.0, probability=DenseVector([0.9167, 0.0833, 0.0])),\n",
       " Row(resultado='derrota', label=0.0, prediction=0.0, probability=DenseVector([0.9167, 0.0833, 0.0])),\n",
       " Row(resultado='derrota', label=0.0, prediction=0.0, probability=DenseVector([0.9167, 0.0833, 0.0])),\n",
       " Row(resultado='derrota', label=0.0, prediction=0.0, probability=DenseVector([0.9167, 0.0833, 0.0])),\n",
       " Row(resultado='derrota', label=0.0, prediction=0.0, probability=DenseVector([0.9167, 0.0833, 0.0])),\n",
       " Row(resultado='derrota', label=0.0, prediction=0.0, probability=DenseVector([0.9167, 0.0833, 0.0])),\n",
       " Row(resultado='derrota', label=0.0, prediction=0.0, probability=DenseVector([0.9167, 0.0833, 0.0])),\n",
       " Row(resultado='derrota', label=0.0, prediction=0.0, probability=DenseVector([0.9167, 0.0833, 0.0])),\n",
       " Row(resultado='vitoria', label=2.0, prediction=2.0, probability=DenseVector([0.0, 0.0, 1.0])),\n",
       " Row(resultado='vitoria', label=2.0, prediction=2.0, probability=DenseVector([0.0, 0.0, 1.0])),\n",
       " Row(resultado='vitoria', label=2.0, prediction=2.0, probability=DenseVector([0.0, 0.0, 1.0])),\n",
       " Row(resultado='vitoria', label=2.0, prediction=2.0, probability=DenseVector([0.0, 0.0, 1.0])),\n",
       " Row(resultado='vitoria', label=2.0, prediction=2.0, probability=DenseVector([0.0, 0.0, 1.0])),\n",
       " Row(resultado='vitoria', label=2.0, prediction=2.0, probability=DenseVector([0.0, 0.0, 1.0])),\n",
       " Row(resultado='vitoria', label=2.0, prediction=2.0, probability=DenseVector([0.0, 0.0, 1.0])),\n",
       " Row(resultado='vitoria', label=2.0, prediction=2.0, probability=DenseVector([0.0, 0.0, 1.0])),\n",
       " Row(resultado='vitoria', label=2.0, prediction=2.0, probability=DenseVector([0.0, 0.0, 1.0])),\n",
       " Row(resultado='vitoria', label=2.0, prediction=2.0, probability=DenseVector([0.0, 0.0, 1.0])),\n",
       " Row(resultado='vitoria', label=2.0, prediction=2.0, probability=DenseVector([0.0, 0.0, 1.0])),\n",
       " Row(resultado='vitoria', label=2.0, prediction=2.0, probability=DenseVector([0.0, 0.0, 1.0])),\n",
       " Row(resultado='vitoria', label=2.0, prediction=2.0, probability=DenseVector([0.0, 0.0, 1.0])),\n",
       " Row(resultado='vitoria', label=2.0, prediction=2.0, probability=DenseVector([0.0, 0.0, 1.0])),\n",
       " Row(resultado='derrota', label=0.0, prediction=0.0, probability=DenseVector([0.9167, 0.0833, 0.0])),\n",
       " Row(resultado='derrota', label=0.0, prediction=0.0, probability=DenseVector([0.9167, 0.0833, 0.0])),\n",
       " Row(resultado='derrota', label=0.0, prediction=0.0, probability=DenseVector([0.9167, 0.0833, 0.0])),\n",
       " Row(resultado='derrota', label=0.0, prediction=0.0, probability=DenseVector([0.9167, 0.0833, 0.0])),\n",
       " Row(resultado='derrota', label=0.0, prediction=0.0, probability=DenseVector([0.9167, 0.0833, 0.0])),\n",
       " Row(resultado='derrota', label=0.0, prediction=0.0, probability=DenseVector([0.9167, 0.0833, 0.0])),\n",
       " Row(resultado='derrota', label=0.0, prediction=0.0, probability=DenseVector([0.9167, 0.0833, 0.0])),\n",
       " Row(resultado='empate', label=1.0, prediction=1.0, probability=DenseVector([0.027, 0.973, 0.0])),\n",
       " Row(resultado='empate', label=1.0, prediction=1.0, probability=DenseVector([0.027, 0.973, 0.0])),\n",
       " Row(resultado='empate', label=1.0, prediction=1.0, probability=DenseVector([0.027, 0.973, 0.0])),\n",
       " Row(resultado='empate', label=1.0, prediction=0.0, probability=DenseVector([0.9167, 0.0833, 0.0])),\n",
       " Row(resultado='empate', label=1.0, prediction=1.0, probability=DenseVector([0.027, 0.973, 0.0])),\n",
       " Row(resultado='empate', label=1.0, prediction=1.0, probability=DenseVector([0.027, 0.973, 0.0])),\n",
       " Row(resultado='empate', label=1.0, prediction=1.0, probability=DenseVector([0.027, 0.973, 0.0])),\n",
       " Row(resultado='empate', label=1.0, prediction=1.0, probability=DenseVector([0.027, 0.973, 0.0])),\n",
       " Row(resultado='empate', label=1.0, prediction=1.0, probability=DenseVector([0.027, 0.973, 0.0])),\n",
       " Row(resultado='empate', label=1.0, prediction=0.0, probability=DenseVector([0.9167, 0.0833, 0.0])),\n",
       " Row(resultado='empate', label=1.0, prediction=1.0, probability=DenseVector([0.027, 0.973, 0.0]))]"
      ]
     },
     "execution_count": 43,
     "metadata": {},
     "output_type": "execute_result"
    }
   ],
   "source": [
    "prev.select(\"resultado\", \"label\", \"prediction\", \"probability\").collect()"
   ]
  },
  {
   "cell_type": "code",
   "execution_count": 44,
   "id": "24dfc93d",
   "metadata": {},
   "outputs": [],
   "source": [
    "# Avaliando a acurácia\n",
    "avaliador = MulticlassClassificationEvaluator(predictionCol='prediction',\n",
    "                                             labelCol='label',\n",
    "                                             metricName='accuracy')"
   ]
  },
  {
   "cell_type": "code",
   "execution_count": 45,
   "id": "ee4ec5b0",
   "metadata": {},
   "outputs": [
    {
     "data": {
      "text/plain": [
       "0.9512195121951219"
      ]
     },
     "execution_count": 45,
     "metadata": {},
     "output_type": "execute_result"
    }
   ],
   "source": [
    "avaliador.evaluate(prev)"
   ]
  },
  {
   "cell_type": "code",
   "execution_count": 46,
   "id": "5aeb74d8",
   "metadata": {},
   "outputs": [
    {
     "name": "stdout",
     "output_type": "stream",
     "text": [
      "+-----+----------+-----+\n",
      "|label|prediction|count|\n",
      "+-----+----------+-----+\n",
      "|  2.0|       2.0|   14|\n",
      "|  0.0|       0.0|   16|\n",
      "|  1.0|       1.0|    9|\n",
      "|  1.0|       0.0|    2|\n",
      "+-----+----------+-----+\n",
      "\n"
     ]
    }
   ],
   "source": [
    "# Resumindo as previsões - Confusion Matrix\n",
    "prev.groupBy('label', 'prediction').count().show()"
   ]
  },
  {
   "cell_type": "markdown",
   "id": "6504be92",
   "metadata": {},
   "source": [
    "## Fim"
   ]
  }
 ],
 "metadata": {
  "kernelspec": {
   "display_name": "Python 3 (ipykernel)",
   "language": "python",
   "name": "python3"
  },
  "language_info": {
   "codemirror_mode": {
    "name": "ipython",
    "version": 3
   },
   "file_extension": ".py",
   "mimetype": "text/x-python",
   "name": "python",
   "nbconvert_exporter": "python",
   "pygments_lexer": "ipython3",
   "version": "3.9.12"
  }
 },
 "nbformat": 4,
 "nbformat_minor": 5
}
