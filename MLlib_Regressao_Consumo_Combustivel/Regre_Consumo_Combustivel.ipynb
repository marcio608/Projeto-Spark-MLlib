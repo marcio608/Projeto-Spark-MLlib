{
 "cells": [
  {
   "cell_type": "markdown",
   "id": "3b6776ce",
   "metadata": {},
   "source": [
    "Usaremos Regressão Linear para prever o consumo de combustível de automóveis.\n",
    "\n",
    "A variável consumo no dataset1.csv será a variável target (dependente) e as demais variáveis serão candidatas a features (variáveis preditoras ou independentes).\n",
    "\n",
    "Este é, portanto, será um problema de Regressão Linear Múltipla (quando temos mais de 1 variável preditora ou independente)."
   ]
  },
  {
   "cell_type": "code",
   "execution_count": 1,
   "id": "5f3988e6",
   "metadata": {},
   "outputs": [
    {
     "name": "stdout",
     "output_type": "stream",
     "text": [
      "Versão usada: 3.9.12\n"
     ]
    }
   ],
   "source": [
    "from platform import python_version\n",
    "print('Versão usada:', python_version())"
   ]
  },
  {
   "cell_type": "code",
   "execution_count": 2,
   "id": "b327bf54",
   "metadata": {},
   "outputs": [],
   "source": [
    "#Importando e inicializando o findspark\n",
    "import findspark\n",
    "findspark.init()"
   ]
  },
  {
   "cell_type": "code",
   "execution_count": 3,
   "id": "84e4e3af",
   "metadata": {},
   "outputs": [],
   "source": [
    "# Importações\n",
    "import numpy as np\n",
    "import pyspark\n",
    "from pyspark import SparkContext\n",
    "from pyspark.sql import SparkSession\n",
    "from pyspark.sql import Row\n",
    "from pyspark.ml.linalg import Vectors\n",
    "from pyspark.ml.regression import LinearRegression\n",
    "from pyspark.ml.evaluation import RegressionEvaluator"
   ]
  },
  {
   "cell_type": "markdown",
   "id": "4571dc37",
   "metadata": {},
   "source": [
    "## Carregando os dados"
   ]
  },
  {
   "cell_type": "code",
   "execution_count": 4,
   "id": "95684b96",
   "metadata": {},
   "outputs": [
    {
     "name": "stdout",
     "output_type": "stream",
     "text": [
      "23/04/07 14:57:00 WARN Utils: Your hostname, mor-Inspiron-3501 resolves to a loopback address: 127.0.1.1; using 192.168.0.217 instead (on interface wlp0s20f3)\n",
      "23/04/07 14:57:00 WARN Utils: Set SPARK_LOCAL_IP if you need to bind to another address\n"
     ]
    },
    {
     "name": "stderr",
     "output_type": "stream",
     "text": [
      "Setting default log level to \"WARN\".\n",
      "To adjust logging level use sc.setLogLevel(newLevel). For SparkR, use setLogLevel(newLevel).\n"
     ]
    },
    {
     "name": "stdout",
     "output_type": "stream",
     "text": [
      "23/04/07 14:57:01 WARN NativeCodeLoader: Unable to load native-hadoop library for your platform... using builtin-java classes where applicable\n",
      "23/04/07 14:57:02 WARN Utils: Service 'SparkUI' could not bind on port 4040. Attempting port 4041.\n"
     ]
    }
   ],
   "source": [
    "# Criando o Spark Context\n",
    "sc = SparkContext(appName= 'Note1')"
   ]
  },
  {
   "cell_type": "code",
   "execution_count": 5,
   "id": "576bcb62",
   "metadata": {},
   "outputs": [],
   "source": [
    "sc.setLogLevel('ERROR')"
   ]
  },
  {
   "cell_type": "code",
   "execution_count": 6,
   "id": "f2233d1e",
   "metadata": {},
   "outputs": [],
   "source": [
    "# Criando o Spark Session\n",
    "spark_session = SparkSession.builder.master('local').getOrCreate()"
   ]
  },
  {
   "cell_type": "code",
   "execution_count": 7,
   "id": "1e319ae4",
   "metadata": {},
   "outputs": [
    {
     "data": {
      "text/plain": [
       "pyspark.rdd.RDD"
      ]
     },
     "execution_count": 7,
     "metadata": {},
     "output_type": "execute_result"
    }
   ],
   "source": [
    "# Carregando os dados e gerando um RDD\n",
    "dados = sc.textFile('dataset1.csv')\n",
    "type(dados)"
   ]
  },
  {
   "cell_type": "code",
   "execution_count": 8,
   "id": "f0947aef",
   "metadata": {},
   "outputs": [
    {
     "data": {
      "text/plain": [
       "dataset1.csv MapPartitionsRDD[1] at textFile at NativeMethodAccessorImpl.java:0"
      ]
     },
     "execution_count": 8,
     "metadata": {},
     "output_type": "execute_result"
    }
   ],
   "source": [
    "# Colocando o RDD em cache. Esse processo otimiza a performance\n",
    "dados.cache()"
   ]
  },
  {
   "cell_type": "code",
   "execution_count": 9,
   "id": "6d62eeb1",
   "metadata": {},
   "outputs": [
    {
     "name": "stderr",
     "output_type": "stream",
     "text": [
      "                                                                                \r"
     ]
    },
    {
     "data": {
      "text/plain": [
       "399"
      ]
     },
     "execution_count": 9,
     "metadata": {},
     "output_type": "execute_result"
    }
   ],
   "source": [
    "# Número de registros\n",
    "dados.count()"
   ]
  },
  {
   "cell_type": "code",
   "execution_count": 10,
   "id": "0dfdc5c3",
   "metadata": {},
   "outputs": [
    {
     "data": {
      "text/plain": [
       "['consumo,numero_cilindros,capacidade,horsepower,peso,aceleracao,ano,nome',\n",
       " '30,4,79,70,2074,19.5,71,peugeot 304',\n",
       " '30,4,88,76,2065,14.5,71,fiat 124b',\n",
       " '31,4,71,65,1773,19,71,toyota corolla 1200',\n",
       " '35,4,72,69,1613,18,71,datsun 1200']"
      ]
     },
     "execution_count": 10,
     "metadata": {},
     "output_type": "execute_result"
    }
   ],
   "source": [
    "# Visualizando as primeiras linhas\n",
    "dados.take(5)"
   ]
  },
  {
   "cell_type": "code",
   "execution_count": 11,
   "id": "8bb2c2d4",
   "metadata": {},
   "outputs": [
    {
     "data": {
      "text/plain": [
       "398"
      ]
     },
     "execution_count": 11,
     "metadata": {},
     "output_type": "execute_result"
    }
   ],
   "source": [
    "# Removendo a primeira linha do arquivo (cabeçalho)\n",
    "# Isso é requerido pelo spark.\n",
    "\n",
    "dados = dados.filter(lambda x: 'horsepower' not in x)\n",
    "dados.count()"
   ]
  },
  {
   "cell_type": "code",
   "execution_count": 12,
   "id": "bff16115",
   "metadata": {},
   "outputs": [
    {
     "data": {
      "text/plain": [
       "['30,4,79,70,2074,19.5,71,peugeot 304',\n",
       " '30,4,88,76,2065,14.5,71,fiat 124b',\n",
       " '31,4,71,65,1773,19,71,toyota corolla 1200',\n",
       " '35,4,72,69,1613,18,71,datsun 1200',\n",
       " '27,4,97,60,1834,19,71,volkswagen model 111']"
      ]
     },
     "execution_count": 12,
     "metadata": {},
     "output_type": "execute_result"
    }
   ],
   "source": [
    "dados.take(5)"
   ]
  },
  {
   "cell_type": "markdown",
   "id": "a4625d4c",
   "metadata": {},
   "source": [
    "## Limpeza dos Dados\n",
    "\n",
    "Vamos verificar se há valores ausentes. RDDs são ótimos para processamento, mas ruins para exploração, então converteremos o RDD para DataFrame Spark e então para DataFrame Pandas."
   ]
  },
  {
   "cell_type": "code",
   "execution_count": 13,
   "id": "c9c90750",
   "metadata": {},
   "outputs": [],
   "source": [
    "# Converte RDD para DataFrame Spark\n",
    "# É necessário converter para string, pois ao usar a função textfile, o spark não importou o schemma dos dados.\n",
    "df_spark = dados.map(lambda x: str(x)).map(lambda w: w.split(',')).toDF()"
   ]
  },
  {
   "cell_type": "code",
   "execution_count": 14,
   "id": "bdc7a9ff",
   "metadata": {},
   "outputs": [
    {
     "data": {
      "text/plain": [
       "pyspark.sql.dataframe.DataFrame"
      ]
     },
     "execution_count": 14,
     "metadata": {},
     "output_type": "execute_result"
    }
   ],
   "source": [
    "type(df_spark)"
   ]
  },
  {
   "cell_type": "code",
   "execution_count": 15,
   "id": "94c903f1",
   "metadata": {},
   "outputs": [
    {
     "data": {
      "text/html": [
       "<div>\n",
       "<style scoped>\n",
       "    .dataframe tbody tr th:only-of-type {\n",
       "        vertical-align: middle;\n",
       "    }\n",
       "\n",
       "    .dataframe tbody tr th {\n",
       "        vertical-align: top;\n",
       "    }\n",
       "\n",
       "    .dataframe thead th {\n",
       "        text-align: right;\n",
       "    }\n",
       "</style>\n",
       "<table border=\"1\" class=\"dataframe\">\n",
       "  <thead>\n",
       "    <tr style=\"text-align: right;\">\n",
       "      <th></th>\n",
       "      <th>_1</th>\n",
       "      <th>_2</th>\n",
       "      <th>_3</th>\n",
       "      <th>_4</th>\n",
       "      <th>_5</th>\n",
       "      <th>_6</th>\n",
       "      <th>_7</th>\n",
       "      <th>_8</th>\n",
       "    </tr>\n",
       "  </thead>\n",
       "  <tbody>\n",
       "    <tr>\n",
       "      <th>0</th>\n",
       "      <td>30</td>\n",
       "      <td>4</td>\n",
       "      <td>79</td>\n",
       "      <td>70</td>\n",
       "      <td>2074</td>\n",
       "      <td>19.5</td>\n",
       "      <td>71</td>\n",
       "      <td>peugeot 304</td>\n",
       "    </tr>\n",
       "    <tr>\n",
       "      <th>1</th>\n",
       "      <td>30</td>\n",
       "      <td>4</td>\n",
       "      <td>88</td>\n",
       "      <td>76</td>\n",
       "      <td>2065</td>\n",
       "      <td>14.5</td>\n",
       "      <td>71</td>\n",
       "      <td>fiat 124b</td>\n",
       "    </tr>\n",
       "    <tr>\n",
       "      <th>2</th>\n",
       "      <td>31</td>\n",
       "      <td>4</td>\n",
       "      <td>71</td>\n",
       "      <td>65</td>\n",
       "      <td>1773</td>\n",
       "      <td>19</td>\n",
       "      <td>71</td>\n",
       "      <td>toyota corolla 1200</td>\n",
       "    </tr>\n",
       "    <tr>\n",
       "      <th>3</th>\n",
       "      <td>35</td>\n",
       "      <td>4</td>\n",
       "      <td>72</td>\n",
       "      <td>69</td>\n",
       "      <td>1613</td>\n",
       "      <td>18</td>\n",
       "      <td>71</td>\n",
       "      <td>datsun 1200</td>\n",
       "    </tr>\n",
       "    <tr>\n",
       "      <th>4</th>\n",
       "      <td>27</td>\n",
       "      <td>4</td>\n",
       "      <td>97</td>\n",
       "      <td>60</td>\n",
       "      <td>1834</td>\n",
       "      <td>19</td>\n",
       "      <td>71</td>\n",
       "      <td>volkswagen model 111</td>\n",
       "    </tr>\n",
       "  </tbody>\n",
       "</table>\n",
       "</div>"
      ],
      "text/plain": [
       "   _1 _2  _3  _4    _5    _6  _7                    _8\n",
       "0  30  4  79  70  2074  19.5  71           peugeot 304\n",
       "1  30  4  88  76  2065  14.5  71             fiat 124b\n",
       "2  31  4  71  65  1773    19  71   toyota corolla 1200\n",
       "3  35  4  72  69  1613    18  71           datsun 1200\n",
       "4  27  4  97  60  1834    19  71  volkswagen model 111"
      ]
     },
     "execution_count": 15,
     "metadata": {},
     "output_type": "execute_result"
    }
   ],
   "source": [
    "df_pandas = df_spark.toPandas()\n",
    "df_pandas.head()"
   ]
  },
  {
   "cell_type": "code",
   "execution_count": 16,
   "id": "71c0debd",
   "metadata": {},
   "outputs": [
    {
     "data": {
      "text/plain": [
       "pandas.core.frame.DataFrame"
      ]
     },
     "execution_count": 16,
     "metadata": {},
     "output_type": "execute_result"
    }
   ],
   "source": [
    "type(df_pandas)"
   ]
  },
  {
   "cell_type": "code",
   "execution_count": 17,
   "id": "092b9e3c",
   "metadata": {},
   "outputs": [
    {
     "data": {
      "text/plain": [
       "_1    0\n",
       "_2    0\n",
       "_3    0\n",
       "_4    0\n",
       "_5    0\n",
       "_6    0\n",
       "_7    0\n",
       "_8    0\n",
       "dtype: int64"
      ]
     },
     "execution_count": 17,
     "metadata": {},
     "output_type": "execute_result"
    }
   ],
   "source": [
    "# Procurando valores nulos\n",
    "df_pandas.isnull().sum()"
   ]
  },
  {
   "cell_type": "code",
   "execution_count": 18,
   "id": "69cda02f",
   "metadata": {},
   "outputs": [
    {
     "data": {
      "text/plain": [
       "6"
      ]
     },
     "execution_count": 18,
     "metadata": {},
     "output_type": "execute_result"
    }
   ],
   "source": [
    "# Boa notícia! Não há valor nulo, mas será que há valores ausentes?\n",
    "\n",
    "total = np.sum(df_pandas.apply(lambda x: x.str.contains('\\?')).values)\n",
    "total"
   ]
  },
  {
   "cell_type": "code",
   "execution_count": 19,
   "id": "bc202999",
   "metadata": {},
   "outputs": [
    {
     "data": {
      "text/plain": [
       "(array([ 48, 126, 330, 336, 354, 374]), array([3, 3, 3, 3, 3, 3]))"
      ]
     },
     "execution_count": 19,
     "metadata": {},
     "output_type": "execute_result"
    }
   ],
   "source": [
    "# Vejamos quais linhas e colunas têm o caracter especial\n",
    "np.where(df_pandas.apply(lambda x: x.str.contains('\\?')).values)"
   ]
  },
  {
   "cell_type": "code",
   "execution_count": 20,
   "id": "28a53bd5",
   "metadata": {},
   "outputs": [
    {
     "data": {
      "text/plain": [
       "_1                    40.9\n",
       "_2                       4\n",
       "_3                      85\n",
       "_4                       ?\n",
       "_5                    1835\n",
       "_6                    17.3\n",
       "_7                      80\n",
       "_8    renault lecar deluxe\n",
       "Name: 330, dtype: object"
      ]
     },
     "execution_count": 20,
     "metadata": {},
     "output_type": "execute_result"
    }
   ],
   "source": [
    "# Visualizando uma linha\n",
    "df_pandas.iloc[330]"
   ]
  },
  {
   "cell_type": "code",
   "execution_count": 21,
   "id": "da7125cf",
   "metadata": {},
   "outputs": [],
   "source": [
    "# Usando um valor padrão para average HP (que será usado para preencher os valores ausentes)\n",
    "mediaHP = sc.broadcast(75.0)"
   ]
  },
  {
   "cell_type": "code",
   "execution_count": 25,
   "id": "98666036",
   "metadata": {},
   "outputs": [],
   "source": [
    "# Função para limpeza dos dados\n",
    "\n",
    "def limpa_dados(inputStr):\n",
    "    \n",
    "    # Variável global\n",
    "    global mediaHP\n",
    "    \n",
    "    # Lista de atributos\n",
    "    attList = inputStr.split(',')\n",
    "    \n",
    "    # Substitui o caracter ? por um valor na coluna de índice 3\n",
    "    \n",
    "    hpValue = attList[3]\n",
    "    if hpValue == '?':\n",
    "        hpValue = mediaHP.value\n",
    "    \n",
    "    # Cria uma linha usando a função Row, limpando e convertendo os dados de string para float\n",
    "    linhas = Row(consumo = float(attList[0]), \n",
    "                 numero_cilindros = float(attList[1]), \n",
    "                 capacidade = float(attList[2]), \n",
    "                 hosrsepower = float(hpValue), \n",
    "                 peso = float(attList[4]), \n",
    "                 aceleracao = float(attList[5]), \n",
    "                 ano = float(attList[6]), \n",
    "                 nome = attList[7]) \n",
    "    return linhas"
   ]
  },
  {
   "cell_type": "code",
   "execution_count": 26,
   "id": "6332c997",
   "metadata": {},
   "outputs": [
    {
     "data": {
      "text/plain": [
       "[Row(consumo=30.0, numero_cilindros=4.0, capacidade=79.0, hosrsepower=70.0, peso=2074.0, aceleracao=19.5, ano=71.0, nome='peugeot 304'),\n",
       " Row(consumo=30.0, numero_cilindros=4.0, capacidade=88.0, hosrsepower=76.0, peso=2065.0, aceleracao=14.5, ano=71.0, nome='fiat 124b'),\n",
       " Row(consumo=31.0, numero_cilindros=4.0, capacidade=71.0, hosrsepower=65.0, peso=1773.0, aceleracao=19.0, ano=71.0, nome='toyota corolla 1200'),\n",
       " Row(consumo=35.0, numero_cilindros=4.0, capacidade=72.0, hosrsepower=69.0, peso=1613.0, aceleracao=18.0, ano=71.0, nome='datsun 1200'),\n",
       " Row(consumo=27.0, numero_cilindros=4.0, capacidade=97.0, hosrsepower=60.0, peso=1834.0, aceleracao=19.0, ano=71.0, nome='volkswagen model 111')]"
      ]
     },
     "execution_count": 26,
     "metadata": {},
     "output_type": "execute_result"
    }
   ],
   "source": [
    "# Executa a função no RDD\n",
    "dados2 = dados.map(limpa_dados)\n",
    "dados2.cache()\n",
    "dados2.take(5)"
   ]
  },
  {
   "cell_type": "markdown",
   "id": "9e9d5a14",
   "metadata": {},
   "source": [
    "## Análise Exploratória de Dados"
   ]
  },
  {
   "cell_type": "code",
   "execution_count": 28,
   "id": "a56b0039",
   "metadata": {},
   "outputs": [],
   "source": [
    "# Cria um Dataframe\n",
    "\n",
    "df_carros = spark_session.createDataFrame(dados2)"
   ]
  },
  {
   "cell_type": "code",
   "execution_count": 29,
   "id": "1b909b44",
   "metadata": {},
   "outputs": [
    {
     "name": "stdout",
     "output_type": "stream",
     "text": [
      "+-------+-----------------+-----------------+\n",
      "|summary|          consumo| numero_cilindros|\n",
      "+-------+-----------------+-----------------+\n",
      "|  count|              398|              398|\n",
      "|   mean|23.51457286432161|5.454773869346734|\n",
      "| stddev|7.815984312565782|1.701004244533212|\n",
      "|    min|              9.0|              3.0|\n",
      "|    max|             46.6|              8.0|\n",
      "+-------+-----------------+-----------------+\n",
      "\n"
     ]
    }
   ],
   "source": [
    "# Estatísticas descritivas de duas variáveis (como exemplo)\n",
    "\n",
    "df_carros.select(\"consumo\", \"numero_cilindros\").describe().show()"
   ]
  },
  {
   "cell_type": "code",
   "execution_count": 33,
   "id": "6725b245",
   "metadata": {},
   "outputs": [
    {
     "name": "stdout",
     "output_type": "stream",
     "text": [
      "Correlação da Variável Target com: consumo 1.0\n",
      "Correlação da Variável Target com: numero_cilindros -0.7753962854205546\n",
      "Correlação da Variável Target com: capacidade -0.8042028248058979\n",
      "Correlação da Variável Target com: hosrsepower -0.7747041523498721\n",
      "Correlação da Variável Target com: peso -0.8317409332443347\n",
      "Correlação da Variável Target com: aceleracao 0.42028891210164976\n",
      "Correlação da Variável Target com: ano 0.5792671330833099\n"
     ]
    }
   ],
   "source": [
    "# Encontrando a correlação entre a variável target com as variáveis preditoras (exceto o nome)\n",
    "# Calculamos a correlação somente das variáveis numéricas!!\n",
    "\n",
    "for i in df_carros.columns:\n",
    "    \n",
    "    if not(isinstance(df_carros.select(i).take(1)[0][0],str)):\n",
    "           print(\"Correlação da Variável Target com:\", i, df_carros.stat.corr('consumo', i))"
   ]
  },
  {
   "cell_type": "markdown",
   "id": "2e93f932",
   "metadata": {},
   "source": [
    "## Pré-Processamento dos Dados"
   ]
  },
  {
   "cell_type": "code",
   "execution_count": 34,
   "id": "305dd096",
   "metadata": {},
   "outputs": [],
   "source": [
    "# Convertendo para um LabeledPoint (target, Vector[features])\n",
    "# Remove colunas não relevantes ou com baixa correlação\n",
    "\n",
    "def transformaVar(row):\n",
    "    obj = (row['consumo'], Vectors.dense([row[\"peso\"], row[\"capacidade\"], row[\"numero_cilindros\"]]))\n",
    "    return obj"
   ]
  },
  {
   "cell_type": "code",
   "execution_count": 35,
   "id": "9bdfda4a",
   "metadata": {},
   "outputs": [
    {
     "data": {
      "text/plain": [
       "[(30.0, DenseVector([2074.0, 79.0, 4.0])),\n",
       " (30.0, DenseVector([2065.0, 88.0, 4.0])),\n",
       " (31.0, DenseVector([1773.0, 71.0, 4.0])),\n",
       " (35.0, DenseVector([1613.0, 72.0, 4.0])),\n",
       " (27.0, DenseVector([1834.0, 97.0, 4.0]))]"
      ]
     },
     "execution_count": 35,
     "metadata": {},
     "output_type": "execute_result"
    }
   ],
   "source": [
    "dados3 = dados2.map(transformaVar)\n",
    "dados3.take(5)"
   ]
  },
  {
   "cell_type": "code",
   "execution_count": 36,
   "id": "e7deca4b",
   "metadata": {},
   "outputs": [
    {
     "name": "stdout",
     "output_type": "stream",
     "text": [
      "+-----+------------------+\n",
      "|label|          features|\n",
      "+-----+------------------+\n",
      "| 30.0| [2074.0,79.0,4.0]|\n",
      "| 30.0| [2065.0,88.0,4.0]|\n",
      "| 31.0| [1773.0,71.0,4.0]|\n",
      "| 35.0| [1613.0,72.0,4.0]|\n",
      "| 27.0| [1834.0,97.0,4.0]|\n",
      "| 26.0| [1955.0,91.0,4.0]|\n",
      "| 24.0|[2278.0,113.0,4.0]|\n",
      "| 25.0| [2126.0,97.5,4.0]|\n",
      "| 23.0| [2254.0,97.0,4.0]|\n",
      "| 20.0|[2408.0,140.0,4.0]|\n",
      "+-----+------------------+\n",
      "only showing top 10 rows\n",
      "\n"
     ]
    }
   ],
   "source": [
    "# Converte o RDD para DataFrame do Spark\n",
    "df_carros = spark_session.createDataFrame(dados3, ['label', 'features'])\n",
    "df_carros.select('label', 'features').show(10)"
   ]
  },
  {
   "cell_type": "code",
   "execution_count": 39,
   "id": "da08378f",
   "metadata": {},
   "outputs": [
    {
     "name": "stdout",
     "output_type": "stream",
     "text": [
      "277\n",
      "121\n"
     ]
    }
   ],
   "source": [
    "# Divisão em dados de Treino e de Teste com split 70/30\n",
    "(dados_treino, dados_teste) = df_carros.randomSplit([0.7, 0.3])\n",
    "print(dados_treino.count())\n",
    "print(dados_teste.count())"
   ]
  },
  {
   "cell_type": "markdown",
   "id": "42ea1c03",
   "metadata": {},
   "source": [
    "## Machine Learning"
   ]
  },
  {
   "cell_type": "code",
   "execution_count": 40,
   "id": "ead64a9e",
   "metadata": {},
   "outputs": [],
   "source": [
    " # Cria o objeto\n",
    "    \n",
    "linear_reg = LinearRegression()"
   ]
  },
  {
   "cell_type": "code",
   "execution_count": 41,
   "id": "28e07c98",
   "metadata": {},
   "outputs": [],
   "source": [
    "# Treina o objeto com dados e cria o modelo\n",
    "modelo = linear_reg.fit(dados_treino)"
   ]
  },
  {
   "cell_type": "code",
   "execution_count": 42,
   "id": "2e2de400",
   "metadata": {},
   "outputs": [
    {
     "name": "stdout",
     "output_type": "stream",
     "text": [
      "LinearRegressionModel: uid=LinearRegression_a30843bcf71d, numFeatures=3\n"
     ]
    }
   ],
   "source": [
    "print(modelo)"
   ]
  },
  {
   "cell_type": "code",
   "execution_count": 43,
   "id": "0826a4b7",
   "metadata": {},
   "outputs": [
    {
     "name": "stdout",
     "output_type": "stream",
     "text": [
      "Coeficientes:[-0.006591941437983503,-0.010024369168943533,0.029607349972484476]\n",
      "Intercepto:44.75288204137945\n"
     ]
    }
   ],
   "source": [
    "# Imprimindo os coeficientes (o que o modelo aprendeu)\n",
    "print('Coeficientes:' + str(modelo.coefficients))\n",
    "print(\"Intercepto:\" + str(modelo.intercept))"
   ]
  },
  {
   "cell_type": "code",
   "execution_count": 44,
   "id": "d84dec54",
   "metadata": {},
   "outputs": [],
   "source": [
    "# Previsões com dados de teste\n",
    "pred = modelo.transform(dados_teste)"
   ]
  },
  {
   "cell_type": "code",
   "execution_count": 46,
   "id": "1d09ebd8",
   "metadata": {},
   "outputs": [
    {
     "name": "stdout",
     "output_type": "stream",
     "text": [
      "+------------------+------------------+\n",
      "|          features|        prediction|\n",
      "+------------------+------------------+\n",
      "|[4499.0,350.0,8.0]|11.824067102541306|\n",
      "|[4906.0,400.0,8.0]| 8.639928478834847|\n",
      "|[4951.0,455.0,8.0]| 7.791950809833693|\n",
      "|[4952.0,429.0,8.0]| 8.045992466788242|\n",
      "|[3169.0,302.0,8.0]| 21.07251893516866|\n",
      "|[3821.0,360.0,8.0]|16.193159705804685|\n",
      "|[3988.0,350.0,8.0]|15.192549177350877|\n",
      "|[4294.0,302.0,8.0]|13.656584817437217|\n",
      "|[4422.0,400.0,8.0]| 11.83042813481886|\n",
      "|[4502.0,350.0,8.0]| 11.80429127822736|\n",
      "|[4654.0,360.0,8.0]| 10.70207248796443|\n",
      "|[4735.0,440.0,8.0]| 9.366175697972281|\n",
      "|[4746.0,400.0,8.0]| 9.694639108912206|\n",
      "|[5140.0,400.0,8.0]| 7.097414182346704|\n",
      "|[3086.0,455.0,8.0]|20.085921591672925|\n",
      "|[4042.0,302.0,8.0]|15.317754059809058|\n",
      "|[4354.0,454.0,8.0]|11.737364217478785|\n",
      "|[4425.0,455.0,8.0]|11.259312006213015|\n",
      "|[3336.0,250.0,6.0]|20.433717211865506|\n",
      "|[3432.0,250.0,6.0]| 19.80089083381909|\n",
      "+------------------+------------------+\n",
      "only showing top 20 rows\n",
      "\n"
     ]
    }
   ],
   "source": [
    "# Visualiza as previsões\n",
    "pred.select(\"features\", 'prediction').show()"
   ]
  },
  {
   "cell_type": "code",
   "execution_count": 47,
   "id": "fbaeef6a",
   "metadata": {},
   "outputs": [],
   "source": [
    "# Coeficiente de determinação R2\n",
    "avaliador = RegressionEvaluator(predictionCol='prediction', labelCol='label', metricName='r2')"
   ]
  },
  {
   "cell_type": "code",
   "execution_count": 48,
   "id": "baea5f84",
   "metadata": {},
   "outputs": [
    {
     "data": {
      "text/plain": [
       "0.7241433037002081"
      ]
     },
     "execution_count": 48,
     "metadata": {},
     "output_type": "execute_result"
    }
   ],
   "source": [
    "# Resultado\n",
    "avaliador.evaluate(pred)"
   ]
  },
  {
   "cell_type": "markdown",
   "id": "e27f4c3c",
   "metadata": {},
   "source": [
    "## Fim "
   ]
  }
 ],
 "metadata": {
  "kernelspec": {
   "display_name": "Python 3 (ipykernel)",
   "language": "python",
   "name": "python3"
  },
  "language_info": {
   "codemirror_mode": {
    "name": "ipython",
    "version": 3
   },
   "file_extension": ".py",
   "mimetype": "text/x-python",
   "name": "python",
   "nbconvert_exporter": "python",
   "pygments_lexer": "ipython3",
   "version": "3.9.12"
  }
 },
 "nbformat": 4,
 "nbformat_minor": 5
}
